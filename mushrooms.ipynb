{
 "cells": [
  {
   "cell_type": "markdown",
   "metadata": {},
   "source": [
    "# Imports"
   ]
  },
  {
   "cell_type": "code",
   "execution_count": 29,
   "metadata": {},
   "outputs": [],
   "source": [
    "# Tobi\n",
    "\n",
    "from sklearn.ensemble import RandomForestClassifier\n",
    "import sklearn.metrics as metrics\n",
    "from xgboost import XGBClassifier\n",
    "from sklearn.feature_selection import VarianceThreshold, SelectFromModel"
   ]
  },
  {
   "cell_type": "code",
   "execution_count": 30,
   "metadata": {},
   "outputs": [],
   "source": [
    "# Simon\n",
    "\n",
    "import pandas as pd\n",
    "import numpy as np\n",
    "import matplotlib.pyplot as plt\n",
    "from sklearn.model_selection import train_test_split\n",
    "from sklearn.pipeline import make_pipeline\n",
    "from sklearn.pipeline import Pipeline\n",
    "from sklearn.impute import SimpleImputer\n",
    "from sklearn.metrics import accuracy_score\n",
    "from sklearn.metrics import roc_auc_score\n",
    "from sklearn.metrics import roc_curve\n",
    "from sklearn.model_selection import GridSearchCV\n",
    "from sklearn.preprocessing import OneHotEncoder\n",
    "from sklearn.preprocessing import OrdinalEncoder\n",
    "from sklearn.compose import ColumnTransformer\n",
    "from sklearn.tree import plot_tree\n",
    "from sklearn.tree import DecisionTreeClassifier"
   ]
  },
  {
   "cell_type": "markdown",
   "metadata": {},
   "source": [
    "# Data Analysis Tobi"
   ]
  },
  {
   "cell_type": "code",
   "execution_count": 31,
   "metadata": {},
   "outputs": [],
   "source": [
    "mushrooms_train = pd.read_csv('data/train.csv')\n",
    "mushrooms_test = pd.read_csv('data/test.csv')"
   ]
  },
  {
   "cell_type": "markdown",
   "metadata": {},
   "source": [
    "## Value Counts\n",
    "* Balanced classes\n",
    "* All data categorical\n",
    "* Some categories have only few members"
   ]
  },
  {
   "cell_type": "code",
   "execution_count": 32,
   "metadata": {},
   "outputs": [
    {
     "name": "stdout",
     "output_type": "stream",
     "text": [
      "cap.shape \n",
      " x    2935\n",
      "f    2534\n",
      "k     652\n",
      "b     349\n",
      "s      28\n",
      "c       1\n",
      "Name: cap.shape, dtype: int64 \n",
      "\n",
      "cap.color \n",
      " n    1823\n",
      "g    1487\n",
      "e    1197\n",
      "y     848\n",
      "w     823\n",
      "b     143\n",
      "p     117\n",
      "c      34\n",
      "u      14\n",
      "r      13\n",
      "Name: cap.color, dtype: int64 \n",
      "\n",
      "bruises \n",
      " False    3764\n",
      "True     2735\n",
      "Name: bruises, dtype: int64 \n",
      "\n",
      "stalk.color.above.ring \n",
      " w    3537\n",
      "p    1536\n",
      "g     452\n",
      "n     358\n",
      "b     346\n",
      "o     156\n",
      "e      78\n",
      "c      29\n",
      "y       7\n",
      "Name: stalk.color.above.ring, dtype: int64 \n",
      "\n",
      "stalk.color.below.ring \n",
      " w    3481\n",
      "p    1494\n",
      "g     467\n",
      "n     421\n",
      "b     352\n",
      "o     156\n",
      "e      80\n",
      "c      29\n",
      "y      19\n",
      "Name: stalk.color.below.ring, dtype: int64 \n",
      "\n",
      "population \n",
      " v    3219\n",
      "y    1392\n",
      "s     993\n",
      "n     320\n",
      "a     302\n",
      "c     273\n",
      "Name: population, dtype: int64 \n",
      "\n",
      "Id \n",
      " 6573    1\n",
      "1895    1\n",
      "5789    1\n",
      "6187    1\n",
      "2508    1\n",
      "       ..\n",
      "6206    1\n",
      "4658    1\n",
      "5000    1\n",
      "6381    1\n",
      "373     1\n",
      "Name: Id, Length: 6499, dtype: int64 \n",
      "\n",
      "poisonous \n",
      " 0    3342\n",
      "1    3157\n",
      "Name: poisonous, dtype: int64 \n",
      "\n"
     ]
    }
   ],
   "source": [
    "for column in mushrooms_train.columns:\n",
    "    print(column, '\\n', mushrooms_train[column].value_counts().sort_values(ascending=False), '\\n')"
   ]
  },
  {
   "cell_type": "markdown",
   "metadata": {},
   "source": [
    "## Missing Values\n",
    "* No missing values"
   ]
  },
  {
   "cell_type": "code",
   "execution_count": 33,
   "metadata": {},
   "outputs": [
    {
     "name": "stdout",
     "output_type": "stream",
     "text": [
      "Id \n",
      " 0 \n",
      "\n",
      "cap.shape \n",
      " 0 \n",
      "\n",
      "cap.color \n",
      " 0 \n",
      "\n",
      "stalk.color.above.ring \n",
      " 0 \n",
      "\n",
      "stalk.color.below.ring \n",
      " 0 \n",
      "\n",
      "bruises \n",
      " 0 \n",
      "\n",
      "population \n",
      " 0 \n",
      "\n"
     ]
    }
   ],
   "source": [
    "for column in mushrooms_test.columns:\n",
    "    print(column, '\\n', mushrooms_test[column].isna().sum(), '\\n')"
   ]
  },
  {
   "cell_type": "markdown",
   "metadata": {},
   "source": [
    "# Preprocessor pipe"
   ]
  },
  {
   "cell_type": "code",
   "execution_count": 35,
   "metadata": {},
   "outputs": [],
   "source": [
    "columns = mushrooms_train.columns[:-2]\n",
    "\n",
    "cat_pipe = Pipeline(steps= [\n",
    "    ('transformer', OneHotEncoder())\n",
    "    ])\n",
    "\n",
    "preprocessor = ColumnTransformer(\n",
    "    transformers=[\n",
    "        ('cat_pipe', cat_pipe, columns),\n",
    "    ], verbose= False\n",
    ")"
   ]
  },
  {
   "cell_type": "markdown",
   "metadata": {},
   "source": [
    "# Conduct Preprocessing"
   ]
  },
  {
   "cell_type": "code",
   "execution_count": 53,
   "metadata": {},
   "outputs": [],
   "source": [
    "# Split in features and target\n",
    "X = mushrooms_train.drop(['poisonous'], axis=1)\n",
    "y = mushrooms_train['poisonous']"
   ]
  },
  {
   "cell_type": "code",
   "execution_count": 54,
   "metadata": {},
   "outputs": [],
   "source": [
    "# Preprocess train data\n",
    "X.drop('Id', axis=1, inplace = True)\n",
    "\n",
    "# Split in train and test data\n",
    "X_train, X_test, y_train, y_test = train_test_split(X, y, test_size=0.2, random_state=1337)\n",
    "\n",
    "# copy for manual false Positives Tuning\n",
    "X_train_2, X_test_2, y_train_2, y_test_2 = X_train, X_test, y_train, y_test"
   ]
  },
  {
   "cell_type": "code",
   "execution_count": 37,
   "metadata": {},
   "outputs": [],
   "source": [
    "# Preprocess final test data\n",
    "X_test_final = mushrooms_test.drop(['Id'], axis=1)"
   ]
  },
  {
   "cell_type": "markdown",
   "metadata": {},
   "source": [
    "# Functions"
   ]
  },
  {
   "cell_type": "markdown",
   "metadata": {},
   "source": [
    "## Plot AUROC"
   ]
  },
  {
   "cell_type": "code",
   "execution_count": 38,
   "metadata": {},
   "outputs": [],
   "source": [
    "def plotAUROC(model, X_test, y_test):\n",
    "    probs = model.predict_proba(X_test)\n",
    "    preds = probs[:,1]\n",
    "    fpr, tpr, threshold = metrics.roc_curve(y_test, preds)\n",
    "    roc_auc = metrics.auc(fpr, tpr)\n",
    "\n",
    "    plt.title('Receiver Operating Characteristic')\n",
    "    plt.plot(fpr, tpr, 'b', label = 'AUC = %0.2f' % roc_auc)\n",
    "    plt.legend(loc = 'lower right')\n",
    "    plt.plot([0, 1], [0, 1],'r--')\n",
    "    plt.xlim([0, 1])\n",
    "    plt.ylim([0, 1])\n",
    "    plt.ylabel('True Positive Rate')\n",
    "    plt.xlabel('False Positive Rate')\n",
    "    plt.show()"
   ]
  },
  {
   "cell_type": "markdown",
   "metadata": {},
   "source": [
    "## Get Confusion Matrix"
   ]
  },
  {
   "cell_type": "code",
   "execution_count": 39,
   "metadata": {},
   "outputs": [],
   "source": [
    "def get_confusion_matrix(y_test, y_pred_test):\n",
    "    confusion_matrix = pd.DataFrame(metrics.confusion_matrix(y_test, y_pred_test),\n",
    "                                    columns=['Predicted Not Poisonous', 'Predicted Poisonous'],\n",
    "                                    index=['True Not Poisonous', 'True Poisonous']\n",
    "                                    )\n",
    "    return confusion_matrix"
   ]
  },
  {
   "cell_type": "markdown",
   "metadata": {},
   "source": [
    "## Get Ids of False Positives"
   ]
  },
  {
   "cell_type": "code",
   "execution_count": 51,
   "metadata": {},
   "outputs": [],
   "source": [
    "def returnFalsePositivesIndex (test, pred_test):\n",
    "    # # get ids of test values --> not necessary, because we use the index now\n",
    "    # test = (\n",
    "    #     pd\n",
    "    #     .merge(pd.DataFrame(test), mushrooms_train, left_index=True, right_index=True, how='left')[['Id', 'poisonous_y']]\n",
    "    #     .rename(columns={\"poisonous_y\": \"poisonous\"})\n",
    "    # )\n",
    "\n",
    "    #get index of false positives\n",
    "    falsePositivesIndex = (\n",
    "        pd.DataFrame(test)\n",
    "        .assign(prediction=pred_test)\n",
    "        .query('poisonous == 0 & prediction == 1')\n",
    "        .index\n",
    "    )\n",
    "\n",
    "    return list(falsePositivesIndex)"
   ]
  },
  {
   "cell_type": "markdown",
   "metadata": {},
   "source": [
    "# Random Forest"
   ]
  },
  {
   "cell_type": "code",
   "execution_count": 41,
   "metadata": {},
   "outputs": [],
   "source": [
    "random_forest_pipe = Pipeline(steps=[\n",
    "    ('preprocessor', preprocessor),\n",
    "    ('classifier', RandomForestClassifier(random_state=1337,\n",
    "                                         n_estimators=100,))\n",
    "    ])"
   ]
  },
  {
   "cell_type": "code",
   "execution_count": 42,
   "metadata": {},
   "outputs": [
    {
     "name": "stdout",
     "output_type": "stream",
     "text": [
      "Accuracy on train-set:  0.9615310636660896\n",
      "Accuracy on test-set:  0.9584615384615385\n"
     ]
    }
   ],
   "source": [
    "random_forest_pipe.fit(X_train, y_train)\n",
    "\n",
    "y_pred_train = random_forest_pipe.predict(X_train)\n",
    "y_pred_test = random_forest_pipe.predict(X_test)\n",
    "\n",
    "print('Accuracy on train-set: ', accuracy_score(y_true = y_train, y_pred = y_pred_train))\n",
    "print('Accuracy on test-set: ', accuracy_score(y_true = y_test, y_pred = y_pred_test))"
   ]
  },
  {
   "cell_type": "markdown",
   "metadata": {},
   "source": [
    "### GridSearch Tuning"
   ]
  },
  {
   "cell_type": "code",
   "execution_count": null,
   "metadata": {},
   "outputs": [],
   "source": [
    "parameter_grid = {\n",
    "    'classifier__max_depth': range(1, 10, 2),\n",
    "    'classifier__min_samples_split': range(2, 10, 2)\n",
    "}\n",
    "\n",
    "random_forest_pipe.fit(X_train, y_train)\n",
    "\n",
    "gridsearch_result = GridSearchCV(   random_forest_pipe,\n",
    "                                    parameter_grid,\n",
    "                                    cv=5,\n",
    "                                    scoring= 'recall')\n",
    "\n",
    "gridsearch_result.fit(X_train, y_train)"
   ]
  },
  {
   "cell_type": "code",
   "execution_count": null,
   "metadata": {},
   "outputs": [],
   "source": [
    "gridsearch_result.best_params_"
   ]
  },
  {
   "cell_type": "code",
   "execution_count": null,
   "metadata": {},
   "outputs": [],
   "source": [
    "y_pred_test = gridsearch_result.predict(X_test)"
   ]
  },
  {
   "cell_type": "markdown",
   "metadata": {},
   "source": [
    "### Change false Positives to true"
   ]
  },
  {
   "cell_type": "code",
   "execution_count": null,
   "metadata": {},
   "outputs": [],
   "source": []
  },
  {
   "cell_type": "markdown",
   "metadata": {},
   "source": [
    "# XGBoost"
   ]
  },
  {
   "cell_type": "code",
   "execution_count": null,
   "metadata": {},
   "outputs": [
    {
     "name": "stdout",
     "output_type": "stream",
     "text": [
      "Accuracy on train-set:  0.9417195614541258\n",
      "Accuracy on test-set:  0.9438461538461539\n"
     ]
    }
   ],
   "source": [
    "# xgboost = XGBClassifier(random_state=1337)\n",
    "# xgboost.fit(X_train.to_numpy(), y_train.to_numpy())\n",
    "\n",
    "# y_pred_train = xgboost.predict(X_train.to_numpy())\n",
    "# y_pred_test = xgboost.predict(X_test.to_numpy())\n",
    "\n",
    "# print('Accuracy on train-set: ', accuracy_score(y_true = y_train.to_numpy(), y_pred = y_pred_train))\n",
    "# print('Accuracy on test-set: ', accuracy_score(y_true = y_test.to_numpy(), y_pred = y_pred_test))"
   ]
  },
  {
   "cell_type": "markdown",
   "metadata": {},
   "source": [
    "# Plot Models"
   ]
  },
  {
   "cell_type": "code",
   "execution_count": null,
   "metadata": {},
   "outputs": [
    {
     "data": {
      "image/png": "[encoded data removed]",
      "text/plain": [
       "<Figure size 432x288 with 1 Axes>"
      ]
     },
     "metadata": {
      "needs_background": "light"
     },
     "output_type": "display_data"
    },
    {
     "data": {
      "image/png": "[encoded data removed]",
      "text/plain": [
       "<Figure size 432x288 with 1 Axes>"
      ]
     },
     "metadata": {
      "needs_background": "light"
     },
     "output_type": "display_data"
    }
   ],
   "source": [
    "plotAUROC(random_forest_pipe, X_test, y_test)\n",
    "# plotAUROC(xgboost, X_test.to_numpy(), y_test.to_numpy())\n",
    "plotAUROC(gridsearch_result, X_test, y_test)"
   ]
  },
  {
   "cell_type": "code",
   "execution_count": null,
   "metadata": {},
   "outputs": [
    {
     "data": {
      "text/html": [
       "<div>\n",
       "<style scoped>\n",
       "    .dataframe tbody tr th:only-of-type {\n",
       "        vertical-align: middle;\n",
       "    }\n",
       "\n",
       "    .dataframe tbody tr th {\n",
       "        vertical-align: top;\n",
       "    }\n",
       "\n",
       "    .dataframe thead th {\n",
       "        text-align: right;\n",
       "    }\n",
       "</style>\n",
       "<table border=\"1\" class=\"dataframe\">\n",
       "  <thead>\n",
       "    <tr style=\"text-align: right;\">\n",
       "      <th></th>\n",
       "      <th>Predicted Not Poisonous</th>\n",
       "      <th>Predicted Poisonous</th>\n",
       "    </tr>\n",
       "  </thead>\n",
       "  <tbody>\n",
       "    <tr>\n",
       "      <th>True Not Poisonous</th>\n",
       "      <td>619</td>\n",
       "      <td>32</td>\n",
       "    </tr>\n",
       "    <tr>\n",
       "      <th>True Poisonous</th>\n",
       "      <td>25</td>\n",
       "      <td>624</td>\n",
       "    </tr>\n",
       "  </tbody>\n",
       "</table>\n",
       "</div>"
      ],
      "text/plain": [
       "                    Predicted Not Poisonous  Predicted Poisonous\n",
       "True Not Poisonous                      619                   32\n",
       "True Poisonous                           25                  624"
      ]
     },
     "execution_count": 55,
     "metadata": {},
     "output_type": "execute_result"
    }
   ],
   "source": [
    "get_confusion_matrix(y_test, y_pred_test)"
   ]
  },
  {
   "cell_type": "markdown",
   "metadata": {},
   "source": [
    "# Final Output"
   ]
  },
  {
   "cell_type": "code",
   "execution_count": null,
   "metadata": {},
   "outputs": [
    {
     "name": "stdout",
     "output_type": "stream",
     "text": [
      "[ColumnTransformer] ...... (1 of 1) Processing cat_pipe, total=   0.0s\n"
     ]
    }
   ],
   "source": [
    "random_forest_pipe.fit(X, y)\n",
    "y_pred_final = random_forest_pipe.predict(X_test_final)"
   ]
  },
  {
   "cell_type": "code",
   "execution_count": null,
   "metadata": {},
   "outputs": [],
   "source": [
    "(\n",
    "    mushrooms_test\n",
    "    .assign(poisonous=y_pred_final)\n",
    "    [['Id', 'poisonous']]\n",
    "    .to_csv('submission.csv', index=False)\n",
    ")"
   ]
  }
 ],
 "metadata": {
  "kernelspec": {
   "display_name": "Python 3.9.5",
   "language": "python",
   "name": "python3"
  },
  "language_info": {
   "codemirror_mode": {
    "name": "ipython",
    "version": 3
   },
   "file_extension": ".py",
   "mimetype": "text/x-python",
   "name": "python",
   "nbconvert_exporter": "python",
   "pygments_lexer": "ipython3",
   "version": "3.9.5"
  },
  "orig_nbformat": 4,
  "vscode": {
   "interpreter": {
    "hash": "f32269641e17bf27d9ca909c2404938da1b1b2df6b9d3f5a88a1b877c863c5b8"
   }
  }
 },
 "nbformat": 4,
 "nbformat_minor": 2
}
