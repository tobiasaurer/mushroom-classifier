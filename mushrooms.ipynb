{
 "cells": [
  {
   "cell_type": "markdown",
   "metadata": {},
   "source": [
    "# Imports"
   ]
  },
  {
   "cell_type": "code",
   "execution_count": 1,
   "metadata": {},
   "outputs": [],
   "source": [
    "# Tobi\n",
    "\n",
    "from sklearn.ensemble import RandomForestClassifier\n",
    "import sklearn.metrics as metrics\n",
    "from xgboost import XGBClassifier\n",
    "from sklearn.feature_selection import VarianceThreshold, SelectFromModel"
   ]
  },
  {
   "cell_type": "code",
   "execution_count": 2,
   "metadata": {},
   "outputs": [],
   "source": [
    "# Simon\n",
    "\n",
    "import pandas as pd\n",
    "import numpy as np\n",
    "import matplotlib.pyplot as plt\n",
    "from sklearn.model_selection import train_test_split\n",
    "from sklearn.pipeline import make_pipeline\n",
    "from sklearn.pipeline import Pipeline\n",
    "from sklearn.impute import SimpleImputer\n",
    "from sklearn.metrics import accuracy_score\n",
    "from sklearn.metrics import roc_auc_score\n",
    "from sklearn.metrics import roc_curve\n",
    "from sklearn.model_selection import GridSearchCV\n",
    "from sklearn.preprocessing import OneHotEncoder\n",
    "from sklearn.preprocessing import OrdinalEncoder\n",
    "from sklearn.compose import ColumnTransformer\n",
    "from sklearn.tree import plot_tree\n",
    "from sklearn.tree import DecisionTreeClassifier"
   ]
  },
  {
   "cell_type": "markdown",
   "metadata": {},
   "source": [
    "# Data Analysis Tobi"
   ]
  },
  {
   "cell_type": "code",
   "execution_count": 3,
   "metadata": {},
   "outputs": [],
   "source": [
    "mushrooms_train = pd.read_csv('data/train.csv')\n",
    "mushrooms_test = pd.read_csv('data/test.csv')"
   ]
  },
  {
   "cell_type": "markdown",
   "metadata": {},
   "source": [
    "## Value Counts\n",
    "* Balanced classes\n",
    "* All data categorical\n",
    "* Some categories have only few members"
   ]
  },
  {
   "cell_type": "code",
   "execution_count": 4,
   "metadata": {},
   "outputs": [
    {
     "name": "stdout",
     "output_type": "stream",
     "text": [
      "cap.shape \n",
      " x    2935\n",
      "f    2534\n",
      "k     652\n",
      "b     349\n",
      "s      28\n",
      "c       1\n",
      "Name: cap.shape, dtype: int64 \n",
      "\n",
      "cap.color \n",
      " n    1823\n",
      "g    1487\n",
      "e    1197\n",
      "y     848\n",
      "w     823\n",
      "b     143\n",
      "p     117\n",
      "c      34\n",
      "u      14\n",
      "r      13\n",
      "Name: cap.color, dtype: int64 \n",
      "\n",
      "bruises \n",
      " False    3764\n",
      "True     2735\n",
      "Name: bruises, dtype: int64 \n",
      "\n",
      "stalk.color.above.ring \n",
      " w    3537\n",
      "p    1536\n",
      "g     452\n",
      "n     358\n",
      "b     346\n",
      "o     156\n",
      "e      78\n",
      "c      29\n",
      "y       7\n",
      "Name: stalk.color.above.ring, dtype: int64 \n",
      "\n",
      "stalk.color.below.ring \n",
      " w    3481\n",
      "p    1494\n",
      "g     467\n",
      "n     421\n",
      "b     352\n",
      "o     156\n",
      "e      80\n",
      "c      29\n",
      "y      19\n",
      "Name: stalk.color.below.ring, dtype: int64 \n",
      "\n",
      "population \n",
      " v    3219\n",
      "y    1392\n",
      "s     993\n",
      "n     320\n",
      "a     302\n",
      "c     273\n",
      "Name: population, dtype: int64 \n",
      "\n",
      "Id \n",
      " 6573    1\n",
      "1895    1\n",
      "5789    1\n",
      "6187    1\n",
      "2508    1\n",
      "       ..\n",
      "6206    1\n",
      "4658    1\n",
      "5000    1\n",
      "6381    1\n",
      "373     1\n",
      "Name: Id, Length: 6499, dtype: int64 \n",
      "\n",
      "poisonous \n",
      " 0    3342\n",
      "1    3157\n",
      "Name: poisonous, dtype: int64 \n",
      "\n"
     ]
    }
   ],
   "source": [
    "for column in mushrooms_train.columns:\n",
    "    print(column, '\\n', mushrooms_train[column].value_counts().sort_values(ascending=False), '\\n')"
   ]
  },
  {
   "cell_type": "markdown",
   "metadata": {},
   "source": [
    "## Missing Values\n",
    "* No missing values"
   ]
  },
  {
   "cell_type": "code",
   "execution_count": 5,
   "metadata": {},
   "outputs": [
    {
     "name": "stdout",
     "output_type": "stream",
     "text": [
      "Id \n",
      " 0 \n",
      "\n",
      "cap.shape \n",
      " 0 \n",
      "\n",
      "cap.color \n",
      " 0 \n",
      "\n",
      "stalk.color.above.ring \n",
      " 0 \n",
      "\n",
      "stalk.color.below.ring \n",
      " 0 \n",
      "\n",
      "bruises \n",
      " 0 \n",
      "\n",
      "population \n",
      " 0 \n",
      "\n"
     ]
    }
   ],
   "source": [
    "for column in mushrooms_test.columns:\n",
    "    print(column, '\\n', mushrooms_test[column].isna().sum(), '\\n')"
   ]
  },
  {
   "cell_type": "markdown",
   "metadata": {},
   "source": [
    "# Preprocessor pipe"
   ]
  },
  {
   "cell_type": "code",
   "execution_count": 6,
   "metadata": {},
   "outputs": [],
   "source": [
    "columns = mushrooms_train.columns[:-2]\n",
    "\n",
    "cat_pipe = Pipeline(steps= [\n",
    "    ('transformer', OneHotEncoder())\n",
    "    ])\n",
    "\n",
    "preprocessor = ColumnTransformer(\n",
    "    transformers=[\n",
    "        ('cat_pipe', cat_pipe, columns),\n",
    "    ], verbose= False\n",
    ")"
   ]
  },
  {
   "cell_type": "markdown",
   "metadata": {},
   "source": [
    "# Conduct Preprocessing"
   ]
  },
  {
   "cell_type": "code",
   "execution_count": 7,
   "metadata": {},
   "outputs": [],
   "source": [
    "# Split in features and target\n",
    "X = mushrooms_train.drop(['poisonous'], axis=1)\n",
    "y = mushrooms_train['poisonous']\n",
    "\n",
    "# copy for manual false Positives Tuning\n",
    "X_2 = X.copy()\n",
    "y_2 = y.copy()"
   ]
  },
  {
   "cell_type": "code",
   "execution_count": 8,
   "metadata": {},
   "outputs": [],
   "source": [
    "# Preprocess train data\n",
    "X.drop('Id', axis=1, inplace = True)\n",
    "\n",
    "# Split in train and test data\n",
    "X_train, X_test, y_train, y_test = train_test_split(X, y, test_size=0.2, random_state=1337)"
   ]
  },
  {
   "cell_type": "code",
   "execution_count": 9,
   "metadata": {},
   "outputs": [],
   "source": [
    "# Preprocess final test data\n",
    "X_test_final = mushrooms_test.drop(['Id'], axis=1)"
   ]
  },
  {
   "cell_type": "markdown",
   "metadata": {},
   "source": [
    "# Functions"
   ]
  },
  {
   "cell_type": "markdown",
   "metadata": {},
   "source": [
    "## Plot AUROC"
   ]
  },
  {
   "cell_type": "code",
   "execution_count": 10,
   "metadata": {},
   "outputs": [],
   "source": [
    "def plotAUROC(model, X_test, y_test):\n",
    "    probs = model.predict_proba(X_test)\n",
    "    preds = probs[:,1]\n",
    "    fpr, tpr, threshold = metrics.roc_curve(y_test, preds)\n",
    "    roc_auc = metrics.auc(fpr, tpr)\n",
    "\n",
    "    plt.title('Receiver Operating Characteristic')\n",
    "    plt.plot(fpr, tpr, 'b', label = 'AUC = %0.2f' % roc_auc)\n",
    "    plt.legend(loc = 'lower right')\n",
    "    plt.plot([0, 1], [0, 1],'r--')\n",
    "    plt.xlim([0, 1])\n",
    "    plt.ylim([0, 1])\n",
    "    plt.ylabel('True Positive Rate')\n",
    "    plt.xlabel('False Positive Rate')\n",
    "    plt.show()"
   ]
  },
  {
   "cell_type": "markdown",
   "metadata": {},
   "source": [
    "## Get Confusion Matrix"
   ]
  },
  {
   "cell_type": "code",
   "execution_count": 11,
   "metadata": {},
   "outputs": [],
   "source": [
    "def get_confusion_matrix(y, y_pred):\n",
    "    confusion_matrix = pd.DataFrame(metrics.confusion_matrix(y, y_pred),\n",
    "                                    columns=['Predicted Not Poisonous', 'Predicted Poisonous'],\n",
    "                                    index=['True Not Poisonous', 'True Poisonous']\n",
    "                                    )\n",
    "    return confusion_matrix"
   ]
  },
  {
   "cell_type": "markdown",
   "metadata": {},
   "source": [
    "## Calculate False Negative Rate"
   ]
  },
  {
   "cell_type": "code",
   "execution_count": 12,
   "metadata": {},
   "outputs": [],
   "source": [
    "def calculate_false_negative_rate(y, y_pred):\n",
    "\n",
    "    confusion_matrix = get_confusion_matrix(y, y_pred)\n",
    "    false_negative_rate = confusion_matrix.loc['True_Poisonous', 'Predicted_Not_Poisonous'] / confusion_matrix.loc['True_Poisonous', :].sum()\n",
    "\n",
    "    return false_negative_rate"
   ]
  },
  {
   "cell_type": "markdown",
   "metadata": {},
   "source": [
    "## Gridsearch"
   ]
  },
  {
   "cell_type": "code",
   "execution_count": 13,
   "metadata": {},
   "outputs": [],
   "source": [
    "def gridsearch(parameter_name, parameter_values, pipeline, X_train, y_train, X_test, y_test):\n",
    "    \n",
    "    best_value = None\n",
    "\n",
    "    for value in parameter_values:\n",
    "        pipeline.set_params(**{f'classifier__{parameter_name}': value})\n",
    "        pipeline.fit(X_train, y_train)\n",
    "\n",
    "        y_pred_test = pipeline.predict(X_test)\n",
    "        false_negative_rate = calculate_false_negative_rate(y_test, y_pred_test)\n",
    "\n",
    "        if best_value is None or false_negative_rate < best_value[1]:\n",
    "            best_value = (value, false_negative_rate) \n",
    "    \n",
    "    return best_value"
   ]
  },
  {
   "cell_type": "markdown",
   "metadata": {},
   "source": [
    "## Get Ids of False Positives"
   ]
  },
  {
   "cell_type": "code",
   "execution_count": 14,
   "metadata": {},
   "outputs": [],
   "source": [
    "def returnFalsePositivesIndex (test, pred_test):\n",
    "    # # get ids of test values --> not necessary, because we use the index now\n",
    "    # test = (\n",
    "    #     pd\n",
    "    #     .merge(pd.DataFrame(test), mushrooms_train, left_index=True, right_index=True, how='left')[['Id', 'poisonous_y']]\n",
    "    #     .rename(columns={\"poisonous_y\": \"poisonous\"})\n",
    "    # )\n",
    "\n",
    "    #get index of false positives\n",
    "    falsePositivesIndex = (\n",
    "        pd.DataFrame(test)\n",
    "        .assign(prediction=pred_test)\n",
    "        .query('poisonous == 0 & prediction == 1')\n",
    "        .index\n",
    "    )\n",
    "\n",
    "    return list(falsePositivesIndex)"
   ]
  },
  {
   "cell_type": "markdown",
   "metadata": {},
   "source": [
    "# Random Forest"
   ]
  },
  {
   "cell_type": "code",
   "execution_count": 46,
   "metadata": {},
   "outputs": [],
   "source": [
    "random_forest_pipe = Pipeline(steps=[\n",
    "    ('preprocessor', preprocessor),\n",
    "    ('classifier', RandomForestClassifier(random_state=1337,\n",
    "                                          class_weight = {0: 1, 1: 10}))\n",
    "    ])"
   ]
  },
  {
   "cell_type": "code",
   "execution_count": 47,
   "metadata": {},
   "outputs": [
    {
     "name": "stdout",
     "output_type": "stream",
     "text": [
      "Accuracy on train-set:  0.9422965954991345\n",
      "Accuracy on test-set:  0.9515384615384616\n"
     ]
    }
   ],
   "source": [
    "random_forest_pipe.fit(X_train, y_train)\n",
    "\n",
    "y_pred_train = random_forest_pipe.predict(X_train)\n",
    "y_pred_test = random_forest_pipe.predict(X_test)\n",
    "\n",
    "print('Accuracy on train-set: ', accuracy_score(y_true = y_train, y_pred = y_pred_train))\n",
    "print('Accuracy on test-set: ', accuracy_score(y_true = y_test, y_pred = y_pred_test))"
   ]
  },
  {
   "cell_type": "markdown",
   "metadata": {},
   "source": [
    "### Change false Positives to true"
   ]
  },
  {
   "cell_type": "code",
   "execution_count": 17,
   "metadata": {},
   "outputs": [],
   "source": [
    "X_train_2, X_test_2, y_train_2, y_test_2 = train_test_split(X_2, y_2, test_size=0.2, random_state=1337)"
   ]
  },
  {
   "cell_type": "code",
   "execution_count": 18,
   "metadata": {},
   "outputs": [
    {
     "name": "stdout",
     "output_type": "stream",
     "text": [
      "Accuracy on train-set:  0.9615310636660896\n",
      "Accuracy on test-set:  0.9584615384615385\n"
     ]
    }
   ],
   "source": [
    "random_forest_pipe.fit(X_train_2, y_train_2)\n",
    "\n",
    "y_pred_train_2 = random_forest_pipe.predict(X_train_2)\n",
    "y_pred_test_2 = random_forest_pipe.predict(X_test_2)\n",
    "\n",
    "print('Accuracy on train-set: ', accuracy_score(y_true = y_train_2, y_pred = y_pred_train_2))\n",
    "print('Accuracy on test-set: ', accuracy_score(y_true = y_test_2, y_pred = y_pred_test_2))"
   ]
  },
  {
   "cell_type": "code",
   "execution_count": 26,
   "metadata": {},
   "outputs": [
    {
     "data": {
      "text/plain": [
       "array([False, False, False, ..., False, False, False])"
      ]
     },
     "execution_count": 26,
     "metadata": {},
     "output_type": "execute_result"
    }
   ],
   "source": [
    "# get indices of false Positives \n",
    "indices = returnFalsePositivesIndex (y_test_2, y_pred_test_2)\n",
    "\n",
    "# change false Positives to true in y_2\n",
    "\n",
    "X_2.loc[X_2.index.isin(indices), 'poisonous'] = 1\n"
   ]
  },
  {
   "cell_type": "code",
   "execution_count": 50,
   "metadata": {},
   "outputs": [],
   "source": [
    "def modify_X(X, y, n):\n",
    "    \n",
    "    y = pd.DataFrame(y)\n",
    "    \n",
    "    for i in range(n):   \n",
    "        X_train, X_test, y_train, y_test = train_test_split(X, y, test_size=0.2)\n",
    "        \n",
    "        random_forest_pipe.fit(X_train, y_train)\n",
    "\n",
    "        y_pred = random_forest_pipe.predict(X_test)\n",
    "\n",
    "        indices = returnFalsePositivesIndex (y_test, y_pred)\n",
    "\n",
    "        y.loc[pd.DataFrame(y).index.isin(indices), 'poisonous'] = 1\n",
    "\n",
    "    return y"
   ]
  },
  {
   "cell_type": "code",
   "execution_count": 52,
   "metadata": {},
   "outputs": [
    {
     "name": "stderr",
     "output_type": "stream",
     "text": [
      "c:\\Users\\tobia\\miniconda3\\envs\\home\\lib\\site-packages\\sklearn\\pipeline.py:382: DataConversionWarning: A column-vector y was passed when a 1d array was expected. Please change the shape of y to (n_samples,), for example using ravel().\n",
      "  self._final_estimator.fit(Xt, y, **fit_params_last_step)\n",
      "c:\\Users\\tobia\\miniconda3\\envs\\home\\lib\\site-packages\\sklearn\\pipeline.py:382: DataConversionWarning: A column-vector y was passed when a 1d array was expected. Please change the shape of y to (n_samples,), for example using ravel().\n",
      "  self._final_estimator.fit(Xt, y, **fit_params_last_step)\n",
      "c:\\Users\\tobia\\miniconda3\\envs\\home\\lib\\site-packages\\sklearn\\pipeline.py:382: DataConversionWarning: A column-vector y was passed when a 1d array was expected. Please change the shape of y to (n_samples,), for example using ravel().\n",
      "  self._final_estimator.fit(Xt, y, **fit_params_last_step)\n",
      "c:\\Users\\tobia\\miniconda3\\envs\\home\\lib\\site-packages\\sklearn\\pipeline.py:382: DataConversionWarning: A column-vector y was passed when a 1d array was expected. Please change the shape of y to (n_samples,), for example using ravel().\n",
      "  self._final_estimator.fit(Xt, y, **fit_params_last_step)\n",
      "c:\\Users\\tobia\\miniconda3\\envs\\home\\lib\\site-packages\\sklearn\\pipeline.py:382: DataConversionWarning: A column-vector y was passed when a 1d array was expected. Please change the shape of y to (n_samples,), for example using ravel().\n",
      "  self._final_estimator.fit(Xt, y, **fit_params_last_step)\n"
     ]
    }
   ],
   "source": [
    "y_final = modify_X(X_2, y_2, 5)"
   ]
  },
  {
   "cell_type": "code",
   "execution_count": 53,
   "metadata": {},
   "outputs": [
    {
     "data": {
      "text/html": [
       "<div>\n",
       "<style scoped>\n",
       "    .dataframe tbody tr th:only-of-type {\n",
       "        vertical-align: middle;\n",
       "    }\n",
       "\n",
       "    .dataframe tbody tr th {\n",
       "        vertical-align: top;\n",
       "    }\n",
       "\n",
       "    .dataframe thead th {\n",
       "        text-align: right;\n",
       "    }\n",
       "</style>\n",
       "<table border=\"1\" class=\"dataframe\">\n",
       "  <thead>\n",
       "    <tr style=\"text-align: right;\">\n",
       "      <th></th>\n",
       "      <th>original</th>\n",
       "      <th>modified</th>\n",
       "    </tr>\n",
       "  </thead>\n",
       "  <tbody>\n",
       "    <tr>\n",
       "      <th>5</th>\n",
       "      <td>0</td>\n",
       "      <td>1</td>\n",
       "    </tr>\n",
       "    <tr>\n",
       "      <th>16</th>\n",
       "      <td>0</td>\n",
       "      <td>1</td>\n",
       "    </tr>\n",
       "    <tr>\n",
       "      <th>25</th>\n",
       "      <td>0</td>\n",
       "      <td>1</td>\n",
       "    </tr>\n",
       "    <tr>\n",
       "      <th>91</th>\n",
       "      <td>0</td>\n",
       "      <td>1</td>\n",
       "    </tr>\n",
       "    <tr>\n",
       "      <th>110</th>\n",
       "      <td>0</td>\n",
       "      <td>1</td>\n",
       "    </tr>\n",
       "    <tr>\n",
       "      <th>...</th>\n",
       "      <td>...</td>\n",
       "      <td>...</td>\n",
       "    </tr>\n",
       "    <tr>\n",
       "      <th>6389</th>\n",
       "      <td>0</td>\n",
       "      <td>1</td>\n",
       "    </tr>\n",
       "    <tr>\n",
       "      <th>6397</th>\n",
       "      <td>0</td>\n",
       "      <td>1</td>\n",
       "    </tr>\n",
       "    <tr>\n",
       "      <th>6411</th>\n",
       "      <td>0</td>\n",
       "      <td>1</td>\n",
       "    </tr>\n",
       "    <tr>\n",
       "      <th>6412</th>\n",
       "      <td>0</td>\n",
       "      <td>1</td>\n",
       "    </tr>\n",
       "    <tr>\n",
       "      <th>6430</th>\n",
       "      <td>0</td>\n",
       "      <td>1</td>\n",
       "    </tr>\n",
       "  </tbody>\n",
       "</table>\n",
       "<p>249 rows × 2 columns</p>\n",
       "</div>"
      ],
      "text/plain": [
       "      original  modified\n",
       "5            0         1\n",
       "16           0         1\n",
       "25           0         1\n",
       "91           0         1\n",
       "110          0         1\n",
       "...        ...       ...\n",
       "6389         0         1\n",
       "6397         0         1\n",
       "6411         0         1\n",
       "6412         0         1\n",
       "6430         0         1\n",
       "\n",
       "[249 rows x 2 columns]"
      ]
     },
     "execution_count": 53,
     "metadata": {},
     "output_type": "execute_result"
    }
   ],
   "source": [
    "comparison = pd.concat([y, y_final], axis = 1)\n",
    "\n",
    "comparison.columns.values[0] = 'original'\n",
    "comparison.columns.values[1] = 'modified'\n",
    "\n",
    "(\n",
    "    comparison\n",
    "        .loc[comparison['original'] != comparison['modified'], :]\n",
    ")"
   ]
  },
  {
   "cell_type": "markdown",
   "metadata": {},
   "source": [
    "# Plot Models"
   ]
  },
  {
   "cell_type": "code",
   "execution_count": 54,
   "metadata": {},
   "outputs": [
    {
     "data": {
      "image/png": "[encoded data removed]",
      "text/plain": [
       "<Figure size 432x288 with 1 Axes>"
      ]
     },
     "metadata": {
      "needs_background": "light"
     },
     "output_type": "display_data"
    }
   ],
   "source": [
    "plotAUROC(random_forest_pipe, X_test, y_test)"
   ]
  },
  {
   "cell_type": "code",
   "execution_count": 55,
   "metadata": {},
   "outputs": [
    {
     "data": {
      "text/html": [
       "<div>\n",
       "<style scoped>\n",
       "    .dataframe tbody tr th:only-of-type {\n",
       "        vertical-align: middle;\n",
       "    }\n",
       "\n",
       "    .dataframe tbody tr th {\n",
       "        vertical-align: top;\n",
       "    }\n",
       "\n",
       "    .dataframe thead th {\n",
       "        text-align: right;\n",
       "    }\n",
       "</style>\n",
       "<table border=\"1\" class=\"dataframe\">\n",
       "  <thead>\n",
       "    <tr style=\"text-align: right;\">\n",
       "      <th></th>\n",
       "      <th>Predicted Not Poisonous</th>\n",
       "      <th>Predicted Poisonous</th>\n",
       "    </tr>\n",
       "  </thead>\n",
       "  <tbody>\n",
       "    <tr>\n",
       "      <th>True Not Poisonous</th>\n",
       "      <td>588</td>\n",
       "      <td>63</td>\n",
       "    </tr>\n",
       "    <tr>\n",
       "      <th>True Poisonous</th>\n",
       "      <td>0</td>\n",
       "      <td>649</td>\n",
       "    </tr>\n",
       "  </tbody>\n",
       "</table>\n",
       "</div>"
      ],
      "text/plain": [
       "                    Predicted Not Poisonous  Predicted Poisonous\n",
       "True Not Poisonous                      588                   63\n",
       "True Poisonous                            0                  649"
      ]
     },
     "execution_count": 55,
     "metadata": {},
     "output_type": "execute_result"
    }
   ],
   "source": [
    "get_confusion_matrix(y_test, y_pred_test)"
   ]
  },
  {
   "cell_type": "markdown",
   "metadata": {},
   "source": [
    "# Final Output"
   ]
  },
  {
   "cell_type": "code",
   "execution_count": 56,
   "metadata": {},
   "outputs": [
    {
     "name": "stderr",
     "output_type": "stream",
     "text": [
      "c:\\Users\\tobia\\miniconda3\\envs\\home\\lib\\site-packages\\sklearn\\pipeline.py:382: DataConversionWarning: A column-vector y was passed when a 1d array was expected. Please change the shape of y to (n_samples,), for example using ravel().\n",
      "  self._final_estimator.fit(Xt, y, **fit_params_last_step)\n"
     ]
    }
   ],
   "source": [
    "random_forest_pipe.fit(X, y_final)\n",
    "y_pred_final = random_forest_pipe.predict(X_test_final)"
   ]
  },
  {
   "cell_type": "code",
   "execution_count": 57,
   "metadata": {},
   "outputs": [],
   "source": [
    "(\n",
    "    mushrooms_test\n",
    "    .assign(poisonous=y_pred_final)\n",
    "    [['Id', 'poisonous']]\n",
    "    .to_csv('submission.csv', index=False)\n",
    ")"
   ]
  }
 ],
 "metadata": {
  "kernelspec": {
   "display_name": "Python 3.9.5",
   "language": "python",
   "name": "python3"
  },
  "language_info": {
   "codemirror_mode": {
    "name": "ipython",
    "version": 3
   },
   "file_extension": ".py",
   "mimetype": "text/x-python",
   "name": "python",
   "nbconvert_exporter": "python",
   "pygments_lexer": "ipython3",
   "version": "3.9.5"
  },
  "orig_nbformat": 4,
  "vscode": {
   "interpreter": {
    "hash": "f32269641e17bf27d9ca909c2404938da1b1b2df6b9d3f5a88a1b877c863c5b8"
   }
  }
 },
 "nbformat": 4,
 "nbformat_minor": 2
}
